{
 "cells": [
  {
   "cell_type": "markdown",
   "id": "0b42354b-e483-4183-8e97-76fcd3fbc1bb",
   "metadata": {},
   "source": [
    "# Vertex AI Search Agent Builder"
   ]
  },
  {
   "cell_type": "markdown",
   "id": "0d8f2875-0470-4d35-aac0-5ebb9fc64e75",
   "metadata": {
    "tags": []
   },
   "source": [
    "## Pre-requisite Setup"
   ]
  },
  {
   "cell_type": "markdown",
   "id": "1a338e0f-ad4a-4b2f-8491-735d9801e4a2",
   "metadata": {
    "jp-MarkdownHeadingCollapsed": true,
    "tags": []
   },
   "source": [
    "### Enable APIs and service account permissions"
   ]
  },
  {
   "cell_type": "markdown",
   "id": "05bffef7-2a63-4151-b1b3-c9c1df3a020d",
   "metadata": {},
   "source": [
    "Enable the Vertex AI Search API:\n",
    "```\n",
    "gcloud services enable discoveryengine.googleapis.com\n",
    "```\n",
    "Enable the Enterprise Knowledge Graph API:\n",
    "```\n",
    "gcloud services enable enterpriseknowledgegraph.googleapis.com\n",
    "```\n",
    "Enable Cloud Run:\n",
    "```\n",
    "gcloud services enable run.googleapis.com\n",
    "```\n",
    "Give the Cloud Run service account required permissions:\n",
    "```\n",
    "gcloud projects add-iam-policy-binding [PROJECT_ID or PROJECT_NUMBER] --member='serviceAccount:[PROJECT_NUMBER]-compute@developer.gserviceaccount.com' --role='roles/discoveryengine.viewer'\n",
    "```"
   ]
  },
  {
   "cell_type": "markdown",
   "id": "6f6342ea-504e-447d-8076-dd4893c45be2",
   "metadata": {
    "tags": []
   },
   "source": [
    "### Install Dependencies and set variables"
   ]
  },
  {
   "cell_type": "code",
   "execution_count": null,
   "id": "5c3004dd-7e6d-44db-ba61-2f2f04b29a6c",
   "metadata": {
    "tags": []
   },
   "outputs": [],
   "source": [
    "! pip3 install -q google-cloud-discoveryengine"
   ]
  },
  {
   "cell_type": "code",
   "execution_count": null,
   "id": "d86d1ff7-ba87-4d41-9ec8-b912e75714c3",
   "metadata": {
    "tags": []
   },
   "outputs": [],
   "source": [
    "import os\n",
    "import socket\n",
    "import re\n",
    "from google.api_core.client_options import ClientOptions\n",
    "from google.cloud import discoveryengine\n",
    "\n",
    "# Cloud project id.\n",
    "PROJECT_IDS = !(gcloud config get-value core/project)\n",
    "PROJECT_ID = PROJECT_IDS[0]\n",
    "LOCATION = \"global\"\n",
    "\n",
    "UNIQUE_PREFIX = socket.gethostname()\n",
    "DATASTORE_NAME = re.sub('-', '_', UNIQUE_PREFIX)\n",
    "APP_NAME = re.sub('_', '-', UNIQUE_PREFIX)\n",
    "DATASTORE_ID = f\"{DATASTORE_NAME}_datastore\""
   ]
  },
  {
   "cell_type": "markdown",
   "id": "9971c484-1983-4c05-8471-e174aeeb7555",
   "metadata": {
    "tags": []
   },
   "source": [
    "## Setting up Agent Builder"
   ]
  },
  {
   "cell_type": "markdown",
   "id": "eca5f00a-b5ff-4bde-9288-e03dadc4bd86",
   "metadata": {
    "tags": []
   },
   "source": [
    "### Creating a Datastore\n",
    "\n",
    "Data store's ingest data for your search app, including scraping websites, bigquery, google drive etc. ([reference](https://cloud.google.com/generative-ai-app-builder/docs/create-data-store-es))"
   ]
  },
  {
   "cell_type": "code",
   "execution_count": null,
   "id": "337fd60b-6ab7-4244-8ecc-6d4ea6670434",
   "metadata": {
    "tags": []
   },
   "outputs": [],
   "source": [
    "def create_data_store(\n",
    "    project_id: str, location: str, data_store_name: str, data_store_id: str\n",
    "):\n",
    "    # Create a client\n",
    "    client_options = (\n",
    "        ClientOptions(api_endpoint=f\"{location}-discoveryengine.googleapis.com\")\n",
    "        if location != \"global\"\n",
    "        else None\n",
    "    )\n",
    "    client = discoveryengine.DataStoreServiceClient(client_options=client_options)\n",
    "\n",
    "    # Initialize request argument(s)\n",
    "    data_store = discoveryengine.DataStore(\n",
    "        display_name=data_store_name,\n",
    "        industry_vertical=\"GENERIC\",\n",
    "        content_config=\"CONTENT_REQUIRED\",\n",
    "    )\n",
    "\n",
    "    request = discoveryengine.CreateDataStoreRequest(\n",
    "        parent=discoveryengine.DataStoreServiceClient.collection_path(\n",
    "            project_id, location, \"default_collection\"\n",
    "        ),\n",
    "        data_store=data_store,\n",
    "        data_store_id=data_store_id,\n",
    "    )\n",
    "    operation = client.create_data_store(request=request)\n",
    "\n",
    "    # Make the request\n",
    "    # The try block is necessary to prevent execution from halting due to an error being thrown when the datastore takes a while to instantiate\n",
    "    try:\n",
    "        response = operation.result(timeout=90)\n",
    "    except:\n",
    "        print(\"long-running operation\")"
   ]
  },
  {
   "cell_type": "code",
   "execution_count": null,
   "id": "d5374232-4cae-4db2-a7e2-676f4e55e872",
   "metadata": {
    "tags": []
   },
   "outputs": [],
   "source": [
    "try:\n",
    "    create_data_store(PROJECT_ID, LOCATION, DATASTORE_NAME, DATASTORE_ID)\n",
    "except Exception as e:\n",
    "    print(\"Ignore if datastore already exists, if first time, delete existing engine or change name\")\n",
    "    print(f\"Error: {e}\")"
   ]
  },
  {
   "cell_type": "markdown",
   "id": "3fb4215a-3765-4034-9566-efb3977dc4a9",
   "metadata": {
    "tags": []
   },
   "source": [
    "### Import Documents (Cloud Storage)"
   ]
  },
  {
   "cell_type": "code",
   "execution_count": null,
   "id": "a3222bd7-9765-40ce-9bd5-0d25cc593152",
   "metadata": {},
   "outputs": [],
   "source": [
    "def import_documents(\n",
    "    project_id: str,\n",
    "    location: str,\n",
    "    data_store_id: str,\n",
    "    gcs_uri: str,\n",
    "):\n",
    "    # Create a client\n",
    "    client_options = (\n",
    "        ClientOptions(api_endpoint=f\"{location}-discoveryengine.googleapis.com\")\n",
    "        if location != \"global\"\n",
    "        else None\n",
    "    )\n",
    "    client = discoveryengine.DocumentServiceClient(client_options=client_options)\n",
    "\n",
    "    # The full resource name of the search engine branch.\n",
    "    # e.g. projects/{project}/locations/{location}/dataStores/{data_store_id}/branches/{branch}\n",
    "    parent = client.branch_path(\n",
    "        project=project_id,\n",
    "        location=location,\n",
    "        data_store=data_store_id,\n",
    "        branch=\"default_branch\",\n",
    "    )\n",
    "\n",
    "    source_documents = [f\"{gcs_uri}/*\"]\n",
    "\n",
    "    request = discoveryengine.ImportDocumentsRequest(\n",
    "        parent=parent,\n",
    "        gcs_source=discoveryengine.GcsSource(\n",
    "            input_uris=source_documents, data_schema=\"content\"\n",
    "        ),\n",
    "        # Options: `FULL`, `INCREMENTAL`\n",
    "        reconciliation_mode=discoveryengine.ImportDocumentsRequest.ReconciliationMode.INCREMENTAL,\n",
    "    )\n",
    "\n",
    "    # Make the request\n",
    "    operation = client.import_documents(request=request)\n",
    "\n",
    "    response = operation.result()\n",
    "\n",
    "    # Once the operation is complete,\n",
    "    # get information from operation metadata\n",
    "    metadata = discoveryengine.ImportDocumentsMetadata(operation.metadata)\n",
    "\n",
    "    # Handle the response\n",
    "    return operation.operation.name"
   ]
  },
  {
   "cell_type": "code",
   "execution_count": null,
   "id": "a4cb1e10-f50d-4122-8698-5aa6f9227f4c",
   "metadata": {},
   "outputs": [],
   "source": [
    "source_documents_gs_uri = (\n",
    "    \"gs://cloud-samples-data/gen-app-builder/search/alphabet-investor-pdfs\"\n",
    ")\n",
    "try:\n",
    "    import_documents(PROJECT_ID, LOCATION, DATASTORE_ID, source_documents_gs_uri)\n",
    "except Exception as e:\n",
    "    print(f\"Error: {e}\")"
   ]
  },
  {
   "cell_type": "markdown",
   "id": "2ff8ffd5-be3a-4d4d-b84d-6d75cf2fdf32",
   "metadata": {
    "tags": []
   },
   "source": [
    "### Creating a Search Engine"
   ]
  },
  {
   "cell_type": "code",
   "execution_count": null,
   "id": "055c6214-d872-4fc0-897d-f5a4fe7c62fa",
   "metadata": {},
   "outputs": [],
   "source": [
    "def create_engine(\n",
    "    project_id: str, location: str, data_store_name: str, data_store_id: str\n",
    "):\n",
    "    # Create a client\n",
    "    client_options = (\n",
    "        ClientOptions(api_endpoint=f\"{location}-discoveryengine.googleapis.com\")\n",
    "        if location != \"global\"\n",
    "        else None\n",
    "    )\n",
    "    client = discoveryengine.EngineServiceClient(client_options=client_options)\n",
    "\n",
    "    # Initialize request argument(s)\n",
    "    config = discoveryengine.Engine.SearchEngineConfig(\n",
    "        search_tier=\"SEARCH_TIER_ENTERPRISE\", search_add_ons=[\"SEARCH_ADD_ON_LLM\"]\n",
    "    )\n",
    "\n",
    "    engine = discoveryengine.Engine(\n",
    "        display_name=data_store_name,\n",
    "        solution_type=\"SOLUTION_TYPE_SEARCH\",\n",
    "        industry_vertical=\"GENERIC\",\n",
    "        data_store_ids=[data_store_id],\n",
    "        search_engine_config=config,\n",
    "    )\n",
    "\n",
    "    request = discoveryengine.CreateEngineRequest(\n",
    "        parent=discoveryengine.DataStoreServiceClient.collection_path(\n",
    "            project_id, location, \"default_collection\"\n",
    "        ),\n",
    "        engine=engine,\n",
    "        engine_id=engine.display_name,\n",
    "    )\n",
    "\n",
    "    # Make the request\n",
    "    operation = client.create_engine(request=request)\n",
    "    response = operation.result(timeout=90)"
   ]
  },
  {
   "cell_type": "code",
   "execution_count": null,
   "id": "67b810ab-be88-49fa-9360-dc379d407918",
   "metadata": {},
   "outputs": [],
   "source": [
    "try:\n",
    "    create_engine(PROJECT_ID, LOCATION, APP_NAME, DATASTORE_ID)\n",
    "except Exception as e:\n",
    "    print(\"Ignore if engine already exists, if first time, delete existing engine or change name\")\n",
    "    print(f\"Error: {e}\")"
   ]
  },
  {
   "cell_type": "markdown",
   "id": "0c159388-f05c-47f0-922a-64c7eacec880",
   "metadata": {
    "tags": []
   },
   "source": [
    "### Query Datastore (Search)"
   ]
  },
  {
   "cell_type": "code",
   "execution_count": null,
   "id": "11241b8d-7784-48ce-8292-faab91cc7a85",
   "metadata": {},
   "outputs": [],
   "source": [
    "def search_sample(\n",
    "    project_id: str,\n",
    "    location: str,\n",
    "    data_store_id: str,\n",
    "    search_query: str,\n",
    ") -> list[discoveryengine.SearchResponse]:\n",
    "    #  For more information, refer to:\n",
    "    # https://cloud.google.com/generative-ai-app-builder/docs/locations#specify_a_multi-region_for_your_data_store\n",
    "    client_options = (\n",
    "        ClientOptions(api_endpoint=f\"{location}-discoveryengine.googleapis.com\")\n",
    "        if LOCATION != \"global\"\n",
    "        else None\n",
    "    )\n",
    "\n",
    "    # Create a client\n",
    "    client = discoveryengine.SearchServiceClient(client_options=client_options)\n",
    "\n",
    "    # The full resource name of the search engine serving config\n",
    "    # e.g. projects/{project_id}/locations/{location}/dataStores/{data_store_id}/servingConfigs/{serving_config_id}\n",
    "    serving_config = client.serving_config_path(\n",
    "        project=project_id,\n",
    "        location=location,\n",
    "        data_store=data_store_id,\n",
    "        serving_config=\"default_config\",\n",
    "    )\n",
    "\n",
    "    # Optional: Configuration options for search\n",
    "    # Refer to the `ContentSearchSpec` reference for all supported fields:\n",
    "    # https://cloud.google.com/python/docs/reference/discoveryengine/latest/google.cloud.discoveryengine_v1.types.SearchRequest.ContentSearchSpec\n",
    "    content_search_spec = discoveryengine.SearchRequest.ContentSearchSpec(\n",
    "        # For information about snippets, refer to:\n",
    "        # https://cloud.google.com/generative-ai-app-builder/docs/snippets\n",
    "        snippet_spec=discoveryengine.SearchRequest.ContentSearchSpec.SnippetSpec(\n",
    "            return_snippet=True\n",
    "        ),\n",
    "        # For information about search summaries, refer to:\n",
    "        # https://cloud.google.com/generative-ai-app-builder/docs/get-search-summaries\n",
    "        summary_spec=discoveryengine.SearchRequest.ContentSearchSpec.SummarySpec(\n",
    "            summary_result_count=5,\n",
    "            include_citations=True,\n",
    "            ignore_adversarial_query=True,\n",
    "            ignore_non_summary_seeking_query=True,\n",
    "        ),\n",
    "    )\n",
    "\n",
    "    # Refer to the `SearchRequest` reference for all supported fields:\n",
    "    # https://cloud.google.com/python/docs/reference/discoveryengine/latest/google.cloud.discoveryengine_v1.types.SearchRequest\n",
    "    request = discoveryengine.SearchRequest(\n",
    "        serving_config=serving_config,\n",
    "        query=search_query,\n",
    "        page_size=10,\n",
    "        content_search_spec=content_search_spec,\n",
    "        query_expansion_spec=discoveryengine.SearchRequest.QueryExpansionSpec(\n",
    "            condition=discoveryengine.SearchRequest.QueryExpansionSpec.Condition.AUTO,\n",
    "        ),\n",
    "        spell_correction_spec=discoveryengine.SearchRequest.SpellCorrectionSpec(\n",
    "            mode=discoveryengine.SearchRequest.SpellCorrectionSpec.Mode.AUTO\n",
    "        ),\n",
    "    )\n",
    "\n",
    "    response = client.search(request)\n",
    "    return response"
   ]
  },
  {
   "cell_type": "code",
   "execution_count": null,
   "id": "ba069bd6-8f26-4a3b-8cbf-a86941f5bd65",
   "metadata": {
    "tags": []
   },
   "outputs": [],
   "source": [
    "query = \"Who is the CEO of Google?\"\n",
    "\n",
    "print(search_sample(PROJECT_ID, LOCATION, DATASTORE_ID, query).summary.summary_text)"
   ]
  },
  {
   "cell_type": "markdown",
   "id": "457f9b49-a2c3-4435-92d4-f2b768f5d38b",
   "metadata": {
    "tags": []
   },
   "source": [
    "### Query Datastore (Multi-turn) "
   ]
  },
  {
   "cell_type": "code",
   "execution_count": null,
   "id": "abb2672c-4ae4-4338-b351-3241a4bedf95",
   "metadata": {
    "tags": []
   },
   "outputs": [],
   "source": [
    "from typing import List\n",
    "\n",
    "from google.api_core.client_options import ClientOptions\n",
    "from google.cloud import discoveryengine_v1 as discoveryengine\n",
    "\n",
    "def multi_turn_search_sample(\n",
    "    project_id: str,\n",
    "    location: str,\n",
    "    data_store_id: str,\n",
    "    search_queries: List[str],\n",
    ") -> List[discoveryengine.ConverseConversationResponse]:\n",
    "    #  For more information, refer to:\n",
    "    # https://cloud.google.com/generative-ai-app-builder/docs/locations#specify_a_multi-region_for_your_data_store\n",
    "    client_options = (\n",
    "        ClientOptions(api_endpoint=f\"{location}-discoveryengine.googleapis.com\")\n",
    "        if location != \"global\"\n",
    "        else None\n",
    "    )\n",
    "\n",
    "    # Create a client\n",
    "    client = discoveryengine.ConversationalSearchServiceClient(\n",
    "        client_options=client_options\n",
    "    )\n",
    "\n",
    "    # Initialize Multi-Turn Session\n",
    "    conversation = client.create_conversation(\n",
    "        # The full resource name of the data store\n",
    "        # e.g. projects/{project_id}/locations/{location}/dataStores/{data_store_id}\n",
    "        parent=client.data_store_path(\n",
    "            project=project_id, location=location, data_store=data_store_id\n",
    "        ),\n",
    "        conversation=discoveryengine.Conversation(),\n",
    "    )\n",
    "\n",
    "\n",
    "    for search_query in search_queries:\n",
    "        # Add new message to session\n",
    "        request = discoveryengine.ConverseConversationRequest(\n",
    "            name=conversation.name,\n",
    "            query=discoveryengine.TextInput(input=search_query),\n",
    "            serving_config=client.serving_config_path(\n",
    "                project=project_id,\n",
    "                location=location,\n",
    "                data_store=data_store_id,\n",
    "                serving_config=\"default_config\",\n",
    "            ),\n",
    "            # Options for the returned summary\n",
    "            summary_spec=discoveryengine.SearchRequest.ContentSearchSpec.SummarySpec(\n",
    "                # Number of results to include in summary\n",
    "                summary_result_count=3,\n",
    "                include_citations=True,\n",
    "            ),\n",
    "        )\n",
    "        response = client.converse_conversation(request)\n",
    "\n",
    "        print(f\"Reply: {response.reply.summary.summary_text}\\n\")\n",
    "\n",
    "        for i, result in enumerate(response.search_results, 1):\n",
    "            result_data = result.document.derived_struct_data\n",
    "            print(f\"[{i}]\")\n",
    "            print(f\"Link: {result_data['link']}\")\n",
    "            print(f\"First Snippet: {result_data['snippets'][0]['snippet']}\")\n",
    "            print(\n",
    "                \"First Extractive Answer: \\n\"\n",
    "                f\"\\tPage: {result_data['extractive_answers'][0]['pageNumber']}\\n\"\n",
    "                f\"\\tContent: {result_data['extractive_answers'][0]['content']}\\n\\n\"\n",
    "            )\n",
    "        print(\"\\n\\n\")"
   ]
  },
  {
   "cell_type": "code",
   "execution_count": null,
   "id": "5cb46da6-7c8e-4c8d-a387-42f0fb11b109",
   "metadata": {
    "tags": []
   },
   "outputs": [],
   "source": [
    "query = [\n",
    "    \"Who is the CEO of Google?\", \n",
    "    \"Where is their office located\"\n",
    "]\n",
    "\n",
    "print(multi_turn_search_sample(PROJECT_ID, LOCATION, DATASTORE_ID, query))"
   ]
  },
  {
   "cell_type": "markdown",
   "id": "26ba6a92-2a28-4d6f-bf5a-503a8f8b2898",
   "metadata": {
    "tags": []
   },
   "source": [
    "## Streamlit"
   ]
  },
  {
   "cell_type": "markdown",
   "id": "031624ee-f2d2-4565-9c3e-c9b11a31c53f",
   "metadata": {
    "tags": []
   },
   "source": [
    "### Install dependencies for Streamlit app"
   ]
  },
  {
   "cell_type": "code",
   "execution_count": null,
   "id": "7cd66124-7b97-480e-a9c7-540db9b6d38b",
   "metadata": {
    "tags": []
   },
   "outputs": [],
   "source": [
    "!pip3 install -q streamlit\n",
    "!pip3 install -q python-dotenv\n",
    "!pip3 install -q google-cloud-aiplatform\n",
    "!pip3 install -q google-generativeai\n",
    "\n",
    "! mkdir pages"
   ]
  },
  {
   "cell_type": "markdown",
   "id": "2828235e-bdba-498f-8cbf-ebdc0dc00242",
   "metadata": {},
   "source": [
    "Generate requirements txt for later deployment"
   ]
  },
  {
   "cell_type": "code",
   "execution_count": null,
   "id": "3066328d-3d37-4df7-b44b-57d8c72064aa",
   "metadata": {
    "tags": []
   },
   "outputs": [],
   "source": [
    "%%writefile requirements.txt\n",
    "streamlit\n",
    "python-dotenv\n",
    "google-generativeai\n",
    "google-cloud-aiplatform\n",
    "google-cloud-discoveryengine"
   ]
  },
  {
   "cell_type": "markdown",
   "id": "3be60f16-2562-4eeb-a0f5-e51a8edabc94",
   "metadata": {},
   "source": [
    "### Replace the following below:\n",
    "ai-sb-test with the project id and renzo_test_1_datastore with the data store id"
   ]
  },
  {
   "cell_type": "code",
   "execution_count": null,
   "id": "cb6e8285-5d84-45de-a3e0-554d261389da",
   "metadata": {
    "tags": []
   },
   "outputs": [],
   "source": [
    "print(PROJECT_ID)\n",
    "print(DATASTORE_ID)"
   ]
  },
  {
   "cell_type": "code",
   "execution_count": null,
   "id": "4bcfbf63-8494-42fe-a754-2e33f43077b8",
   "metadata": {
    "tags": []
   },
   "outputs": [],
   "source": [
    "%%writefile Dockerfile\n",
    "\n",
    "FROM python:3.10\n",
    "\n",
    "EXPOSE 8080\n",
    "WORKDIR /app\n",
    "\n",
    "COPY . ./\n",
    "\n",
    "RUN pip install -r requirements.txt\n",
    "\n",
    "ENTRYPOINT [\"streamlit\", \"run\", \"Search.py\", \"ai-sb-test\", \"renzo_test_1_datastore\", \"--server.port=8080\", \"--server.address=0.0.0.0\"]"
   ]
  },
  {
   "cell_type": "markdown",
   "id": "13c9cf94-0ca2-43ed-b527-6675548aa2a6",
   "metadata": {
    "tags": []
   },
   "source": [
    "### Create main Search page for app"
   ]
  },
  {
   "cell_type": "code",
   "execution_count": null,
   "id": "532ba1bc-ebe6-47c0-bcbd-bdcc82baafee",
   "metadata": {
    "tags": []
   },
   "outputs": [],
   "source": [
    "%%writefile Search.py\n",
    "\n",
    "import os\n",
    "import sys\n",
    "from dotenv import load_dotenv\n",
    "import streamlit as st\n",
    "import vertexai\n",
    "\n",
    "from typing import List\n",
    "\n",
    "from google.api_core.client_options import ClientOptions\n",
    "from google.cloud import discoveryengine_v1 as discoveryengine\n",
    "from vertexai.preview.generative_models import (\n",
    "    GenerationConfig,\n",
    "    GenerativeModel,\n",
    "    Tool,\n",
    "    grounding,\n",
    ")\n",
    "\n",
    "PROJECT_ID = sys.argv[1]\n",
    "LOCATION = \"global\"\n",
    "DATASTORE_ID = sys.argv[2]\n",
    "\n",
    "def search_sample(\n",
    "    project_id: str,\n",
    "    location: str,\n",
    "    data_store_id: str,\n",
    "    search_query: str,\n",
    "    no_results: int ,\n",
    "    no_snippets: int,\n",
    "    no_extract: int,\n",
    "    no_extract_seg: int,\n",
    "    no_top_results: int\n",
    ") -> list[discoveryengine.SearchResponse]:\n",
    "    #  For more information, refer to:\n",
    "    # https://cloud.google.com/generative-ai-app-builder/docs/locations#specify_a_multi-region_for_your_data_store\n",
    "    client_options = (\n",
    "        ClientOptions(api_endpoint=f\"{location}-discoveryengine.googleapis.com\")\n",
    "        if LOCATION != \"global\"\n",
    "        else None\n",
    "    )\n",
    "\n",
    "    # Create a client\n",
    "    client = discoveryengine.SearchServiceClient(client_options=client_options)\n",
    "\n",
    "    # The full resource name of the search engine serving config\n",
    "    # e.g. projects/{project_id}/locations/{location}/dataStores/{data_store_id}/servingConfigs/{serving_config_id}\n",
    "    serving_config = client.serving_config_path(\n",
    "        project=project_id,\n",
    "        location=location,\n",
    "        data_store=data_store_id,\n",
    "        serving_config=\"default_config\",\n",
    "    )\n",
    "\n",
    "    # Optional: Configuration options for search\n",
    "    # Refer to the `ContentSearchSpec` reference for all supported fields:\n",
    "    # https://cloud.google.com/python/docs/reference/discoveryengine/latest/google.cloud.discoveryengine_v1.types.SearchRequest.ContentSearchSpec\n",
    "    content_search_spec = {\n",
    "        'snippet_spec': {'return_snippet': True if no_snippets == 1 else False},\n",
    "        'extractive_content_spec': {\n",
    "            'max_extractive_answer_count': no_extract,\n",
    "            'max_extractive_segment_count': no_extract_seg,\n",
    "            'return_extractive_segment_score': True,\n",
    "        },\n",
    "        'summary_spec': {\n",
    "            'summary_result_count': no_top_results,\n",
    "            'include_citations': True,\n",
    "        },\n",
    "    }\n",
    "\n",
    "    # Refer to the `SearchRequest` reference for all supported fields:\n",
    "    # https://cloud.google.com/python/docs/reference/discoveryengine/latest/google.cloud.discoveryengine_v1.types.SearchRequest\n",
    "    request = discoveryengine.SearchRequest(\n",
    "        serving_config=serving_config,\n",
    "        query=search_query,\n",
    "        page_size=no_results,\n",
    "        content_search_spec=content_search_spec,\n",
    "        query_expansion_spec=discoveryengine.SearchRequest.QueryExpansionSpec(\n",
    "            condition=discoveryengine.SearchRequest.QueryExpansionSpec.Condition.AUTO,\n",
    "        ),\n",
    "        spell_correction_spec=discoveryengine.SearchRequest.SpellCorrectionSpec(\n",
    "            mode=discoveryengine.SearchRequest.SpellCorrectionSpec.Mode.AUTO\n",
    "        ),\n",
    "    )\n",
    "\n",
    "    response = client.search(request)\n",
    "    return response\n",
    "\n",
    "def llm_prompt(\n",
    "    project_id: str,\n",
    "    location: str,\n",
    "    data_store_id: str,\n",
    "    llm_model: str,\n",
    "    prompt: str,\n",
    "    temp,\n",
    "    top_k,\n",
    "    top_p\n",
    "):\n",
    "    vertexai.init(project=project_id, location=\"us-central1\")\n",
    "\n",
    "    model = GenerativeModel(llm_model)\n",
    "    tool = Tool.from_retrieval(\n",
    "        grounding.Retrieval(\n",
    "            grounding.VertexAISearch(\n",
    "                datastore=data_store_id,\n",
    "                project=project_id,\n",
    "                location=\"global\",\n",
    "            )\n",
    "        )\n",
    "    )\n",
    "\n",
    "    response = model.generate_content(\n",
    "        prompt,\n",
    "        tools=[tool],\n",
    "        generation_config=GenerationConfig(\n",
    "            temperature=temp,\n",
    "            top_p=top_p,\n",
    "            top_k=top_k\n",
    "        ),\n",
    "    )\n",
    "\n",
    "    return(response.text)\n",
    "\n",
    "load_dotenv()\n",
    "\n",
    "def main():\n",
    "# --- App layout ---\n",
    "    st.set_page_config(page_title=\"Search\")\n",
    "    st.title('Search')  \n",
    "    \n",
    "    with st.sidebar:\n",
    "        st.title('Configurations')\n",
    "        llm_model = st.selectbox(\n",
    "            \"LLM Model\",\n",
    "            (\"Vertex AI Search(default)\", \"gemini-1.5-flash-001\", \"gemini-1.5-pro-001\"),\n",
    "        )\n",
    "        if llm_model is not \"Vertex AI Search(default)\":\n",
    "            st.divider()\n",
    "            temp = st.number_input(\"Temp\", 0.0, 1.0, 0.0)\n",
    "            top_k = st.number_input(\"Top K\", 0, 100, 40)\n",
    "            top_p = st.number_input(\"Top P\", 0.0, 1.0, 0.95)\n",
    "        st.divider()\n",
    "        no_results = st.slider(\"Results per Page\", 1, 10, 10)\n",
    "        no_snippets = st.slider(\"Snippets per Result\", 0, 1, 1)\n",
    "        no_extract = st.slider(\"Results per Page\", 0, 5, 3)\n",
    "        no_extract_seg = st.slider(\"Results per Page\", 1, 10, 3)\n",
    "        no_top_results = st.slider(\"Results per Page\", 1, 5, 5)\n",
    "        \n",
    "    search_prompt = st.text_input(\"Search Internal Documents\", value=\"what is the revenue for 2024?\")\n",
    "    if st.button(\"Generate\"):\n",
    "        search_response = search_sample(PROJECT_ID, LOCATION, DATASTORE_ID, search_prompt, no_results, no_snippets, no_extract, no_extract_seg, no_top_results)\n",
    "        st.subheader(\"AI Answer\")\n",
    "        \n",
    "        container = st.container(border=True)\n",
    "        if llm_model is \"Vertex AI Search(default)\":\n",
    "            container.write(search_response.summary.summary_text)\n",
    "        else:\n",
    "            container.write(llm_prompt(PROJECT_ID, LOCATION, DATASTORE_ID, llm_model, search_prompt, temp, top_k, top_p))\n",
    "            \n",
    "        st.subheader(\"Results\")\n",
    "        for result in search_response.results:\n",
    "            container = st.container(border=True)\n",
    "            # st.link_button(result.document.derived_struct_data['title'], result.document.derived_struct_data['link'])\n",
    "            container.subheader(result.document.derived_struct_data['title'])\n",
    "            for extract in result.document.derived_struct_data['extractive_answers']:\n",
    "                container.write(f\"Page {extract['pageNumber']}\")\n",
    "                container.write(extract['content']) \n",
    "\n",
    "# --- End of App layout ---\n",
    "\n",
    "if __name__ == \"__main__\":\n",
    "    main()"
   ]
  },
  {
   "cell_type": "markdown",
   "id": "70b25380-0999-48c6-9d23-7558d262d5ee",
   "metadata": {
    "tags": []
   },
   "source": [
    "### Create Multi-turn page for app"
   ]
  },
  {
   "cell_type": "code",
   "execution_count": null,
   "id": "9f084847-0d7f-4f8d-90a2-5e0af9eb8d70",
   "metadata": {
    "tags": []
   },
   "outputs": [],
   "source": [
    "%%writefile pages/Multi-Turn.py\n",
    "\n",
    "import streamlit as st\n",
    "from typing import List\n",
    "from dotenv import load_dotenv\n",
    "from google.api_core.client_options import ClientOptions\n",
    "from google.cloud import discoveryengine_v1 as discoveryengine\n",
    "from google.cloud import discoveryengine_v1alpha\n",
    "\n",
    "import os\n",
    "import sys\n",
    "\n",
    "load_dotenv()\n",
    "\n",
    "PROJECT_ID = sys.argv[1]\n",
    "LOCATION = \"global\"\n",
    "DATASTORE_ID = sys.argv[2]\n",
    "\n",
    "st.set_page_config(page_title=\"Multi-Turn\")\n",
    "st.title('Multi-Turn')\n",
    "\n",
    "col1, col2 = st.columns(2, gap=\"medium\")\n",
    "\n",
    "# Create a client\n",
    "client_options = (\n",
    "    ClientOptions(api_endpoint=f\"{LOCATION}-discoveryengine.googleapis.com\")\n",
    "    if LOCATION != \"global\"\n",
    "    else None\n",
    ")\n",
    "client = discoveryengine.ConversationalSearchServiceClient(\n",
    "    client_options=client_options\n",
    ")\n",
    "\n",
    "# Initialize Multi-Turn Session\n",
    "conversation = client.create_conversation(\n",
    "    # The full resource name of the data store\n",
    "    # e.g. projects/{project_id}/locations/{location}/dataStores/{data_store_id}\n",
    "    parent=client.data_store_path(\n",
    "        project=PROJECT_ID, location=LOCATION, data_store=DATASTORE_ID\n",
    "    ),\n",
    "    conversation=discoveryengine.Conversation(),\n",
    ")\n",
    "\n",
    "with col1:\n",
    "    st.subheader(\"Multi-turn Search\")\n",
    "    prompt = st.chat_input(\"Ask Follow-up Questions\")\n",
    "    \n",
    "with col2:\n",
    "    st.subheader(\"Reference Results\")\n",
    "    \n",
    "if prompt:\n",
    "    request = discoveryengine.ConverseConversationRequest(\n",
    "        name=conversation.name,\n",
    "        query=discoveryengine.TextInput(input=prompt),\n",
    "        serving_config=client.serving_config_path(\n",
    "            project=PROJECT_ID,\n",
    "            location=LOCATION,\n",
    "            data_store=DATASTORE_ID,\n",
    "            serving_config=\"default_config\",\n",
    "        ),\n",
    "        # Options for the returned summary\n",
    "        summary_spec=discoveryengine.SearchRequest.ContentSearchSpec.SummarySpec(\n",
    "            # Number of results to include in summary\n",
    "            summary_result_count=3,\n",
    "            include_citations=True,\n",
    "        ),\n",
    "    )\n",
    "    response = client.converse_conversation(request)\n",
    "\n",
    "    with col1:\n",
    "        with st.chat_message(\"user\"):\n",
    "            st.write(response.conversation.messages[0].user_input.input)\n",
    "        with st.chat_message(\"assistant\"):\n",
    "            st.write(response.conversation.messages[1].reply.summary.summary_text)\n",
    "\n",
    "    with col2:\n",
    "        for i, result in enumerate(response.search_results, 1):\n",
    "            container = st.container(border=True)\n",
    "            result_data = result.document.derived_struct_data\n",
    "            container.write(f\"[{i}]\")\n",
    "            container.markdown(f\"[{result_data['link'].split('/')[-1]}]({result_data['link']})\")\n",
    "            container.markdown(\"Snippet: \")\n",
    "            container.markdown(result_data['snippets'][0]['snippet'])\n",
    "            container.markdown(\"Extractive Answers:\")\n",
    "            container.markdown(f\"    Page: {result_data['extractive_answers'][0]['pageNumber']}\")\n",
    "            container.markdown(f\"    {result_data['extractive_answers'][0]['content']}\")"
   ]
  },
  {
   "cell_type": "markdown",
   "id": "7d26b024-b111-454c-966a-ea343d6830a8",
   "metadata": {
    "tags": []
   },
   "source": [
    "### Run Streamlit app locally"
   ]
  },
  {
   "cell_type": "markdown",
   "id": "d4ea3553-e6f5-404f-b5bf-a39ac78c54bc",
   "metadata": {},
   "source": [
    "To Access your app, go to the **External URL** link"
   ]
  },
  {
   "cell_type": "code",
   "execution_count": null,
   "id": "0c19f925-aa88-4e8a-aa3d-ac99c4b14362",
   "metadata": {
    "tags": []
   },
   "outputs": [],
   "source": [
    "! python3 -m streamlit run Search.py {PROJECT_ID} {DATASTORE_ID}"
   ]
  },
  {
   "cell_type": "markdown",
   "id": "91fbd5ca-28db-4d12-9149-f5974316dfea",
   "metadata": {
    "tags": []
   },
   "source": [
    "## Creating Search App"
   ]
  },
  {
   "cell_type": "markdown",
   "id": "45a0b29b-ca1f-4f81-ae35-fb9dcff13242",
   "metadata": {
    "tags": []
   },
   "source": [
    "### Deploy Cloud Run function (Uncomment to run)"
   ]
  },
  {
   "cell_type": "code",
   "execution_count": null,
   "id": "82d7c493-f8b3-4255-b341-1edf3ef67604",
   "metadata": {
    "tags": []
   },
   "outputs": [],
   "source": [
    "# LOCATION = 'asia-southeast1'\n",
    "# ! gcloud artifacts repositories create {APP_NAME}-repo --location={LOCATION} --repository-format=Docker"
   ]
  },
  {
   "cell_type": "code",
   "execution_count": null,
   "id": "03fda238-975e-403e-bded-fce9084a487d",
   "metadata": {
    "tags": []
   },
   "outputs": [],
   "source": [
    "# ! gcloud auth configure-docker {LOCATION}-docker.pkg.dev -q"
   ]
  },
  {
   "cell_type": "code",
   "execution_count": null,
   "id": "768377e1-dd09-4736-8d8e-affc04f9b4bf",
   "metadata": {},
   "outputs": [],
   "source": [
    "# ! gcloud builds submit --tag {LOCATION}-docker.pkg.dev/{PROJECT_ID}/{APP_NAME}-repo/{APP_NAME}"
   ]
  },
  {
   "cell_type": "code",
   "execution_count": null,
   "id": "aaffa9d7-95e1-46cf-85ed-8407eb7a21fe",
   "metadata": {
    "tags": []
   },
   "outputs": [],
   "source": [
    "# ! gcloud run deploy {APP_NAME} --allow-unauthenticated --platform=managed --region=asia-southeast1 -q --set-env-vars=PROJECT_ID={PROJECT_ID},DATASTORE_ID={DATASTORE_ID} --image={LOCATION}-docker.pkg.dev/{PROJECT_ID}/{APP_NAME}-repo/{APP_NAME}"
   ]
  }
 ],
 "metadata": {
  "environment": {
   "kernel": "conda-base-py",
   "name": "workbench-notebooks.m125",
   "type": "gcloud",
   "uri": "us-docker.pkg.dev/deeplearning-platform-release/gcr.io/workbench-notebooks:m125"
  },
  "kernelspec": {
   "display_name": "Python 3 (ipykernel) (Local)",
   "language": "python",
   "name": "conda-base-py"
  },
  "language_info": {
   "codemirror_mode": {
    "name": "ipython",
    "version": 3
   },
   "file_extension": ".py",
   "mimetype": "text/x-python",
   "name": "python",
   "nbconvert_exporter": "python",
   "pygments_lexer": "ipython3",
   "version": "3.10.15"
  }
 },
 "nbformat": 4,
 "nbformat_minor": 5
}
